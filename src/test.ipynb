{
 "cells": [
  {
   "cell_type": "code",
   "execution_count": 19,
   "metadata": {},
   "outputs": [
    {
     "name": "stdout",
     "output_type": "stream",
     "text": [
      "The quick brown\n",
      "fox\n",
      "[[ 63  97]\n",
      " [251  57]\n",
      " [355 547]\n",
      " [167 587]]\n",
      "82\n",
      "[154  77 148]\n",
      "-12\n"
     ]
    },
    {
     "data": {
      "text/plain": [
       "True"
      ]
     },
     "execution_count": 19,
     "metadata": {},
     "output_type": "execute_result"
    }
   ],
   "source": [
    "from pathlib import Path as pth\n",
    "from random import seed\n",
    "\n",
    "import numpy as np\n",
    "import cv2 as cv\n",
    "from PIL import Image, ImageFont\n",
    "\n",
    "from font_rendering import generate\n",
    "\n",
    "seed(0)\n",
    "\n",
    "original_text = \"The quick brown fox\"\n",
    "font = ImageFont.truetype(\"tests/assets/SilentReaction.ttf\", 42)\n",
    "\n",
    "text, img, alpha, bbox, font_size, font_color, text_rotation_angle = generate(original_text, font)\n",
    "\n",
    "print(text)\n",
    "print(bbox.points)\n",
    "print(font_size)\n",
    "print(font_color)\n",
    "print(text_rotation_angle)\n",
    "\n",
    "compression = [cv.IMWRITE_PNG_COMPRESSION, 7]\n",
    "cv.imwrite(\"tests/assets/img_font_rendering_generate_seed_0.png\", img, compression)\n",
    "cv.imwrite(\"tests/assets/alpha_font_rendering_generate_seed_0.png\", alpha, compression)"
   ]
  },
  {
   "cell_type": "code",
   "execution_count": 5,
   "metadata": {},
   "outputs": [
    {
     "name": "stdout",
     "output_type": "stream",
     "text": [
      "1\n"
     ]
    }
   ],
   "source": [
    "from random import seed\n",
    "from tests.test_postprocessing import make_random_gaussian_blur_sample\n",
    "from postprocess import apply_random_gaussian_blur_to_sample\n",
    "\n",
    "seed(0)\n",
    "sample = make_random_gaussian_blur_sample(\"tests/assets\")\n",
    "apply_random_gaussian_blur_to_sample(sample)\n",
    "print(sample.gaussian_blur_radius)"
   ]
  }
 ],
 "metadata": {
  "kernelspec": {
   "display_name": ".venv",
   "language": "python",
   "name": "python3"
  },
  "language_info": {
   "codemirror_mode": {
    "name": "ipython",
    "version": 3
   },
   "file_extension": ".py",
   "mimetype": "text/x-python",
   "name": "python",
   "nbconvert_exporter": "python",
   "pygments_lexer": "ipython3",
   "version": "3.11.3"
  },
  "orig_nbformat": 4
 },
 "nbformat": 4,
 "nbformat_minor": 2
}
